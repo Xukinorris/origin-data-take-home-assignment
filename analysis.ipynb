{
 "cells": [
  {
   "cell_type": "markdown",
   "metadata": {
    "id": "ZUbgxPuBusEU"
   },
   "source": [
    "# Origin Data Take Home Assignment\n",
    "\n",
    "by Giovanni da Costa Santin\n",
    "\n",
    "## Step 1 - Loading libs"
   ]
  },
  {
   "cell_type": "code",
   "execution_count": 1,
   "metadata": {
    "id": "u0bIKmlqusEZ"
   },
   "outputs": [],
   "source": [
    "import numpy as np\n",
    "import pandas as pd\n",
    "from kmodes.kprototypes import KPrototypes\n",
    "from plotnine import *\n",
    "import plotnine\n",
    "\n",
    "# Format scientific notation from Pandas\n",
    "pd.set_option('display.float_format', lambda x: '%.3f' % x)"
   ]
  },
  {
   "cell_type": "markdown",
   "metadata": {
    "id": "Z4EzwjZ4usEZ"
   },
   "source": [
    "## Step 2 - Loading and Cleansing Data"
   ]
  },
  {
   "cell_type": "code",
   "execution_count": 2,
   "metadata": {
    "id": "bV0aN8WfusEa"
   },
   "outputs": [],
   "source": [
    "transactions = pd.read_csv('data/transactions.csv')\n",
    "users = pd.read_csv('data/users.csv')"
   ]
  },
  {
   "cell_type": "markdown",
   "metadata": {
    "id": "8VTEupLFusEa"
   },
   "source": [
    "We'll now check the dimension on the data we'll be working on."
   ]
  },
  {
   "cell_type": "code",
   "execution_count": 3,
   "metadata": {
    "colab": {
     "base_uri": "https://localhost:8080/"
    },
    "id": "9yj6j75FusEa",
    "outputId": "f3031cc7-bbe7-4ef3-9362-ec552c5a2c0f"
   },
   "outputs": [
    {
     "name": "stdout",
     "output_type": "stream",
     "text": [
      "Dimension the data:\n",
      "\n",
      "Table Transactions: 11059 rows and 17 columns.\n",
      "Table Users: 803 rows and 7 columns.\n"
     ]
    }
   ],
   "source": [
    "print(\"Dimension the data:\\n\")\n",
    "print(\"Table Transactions: {} rows and {} columns.\".format(transactions.shape[0], transactions.shape[1]))\n",
    "print(\"Table Users: {} rows and {} columns.\".format(users.shape[0], users.shape[1]))"
   ]
  },
  {
   "cell_type": "markdown",
   "metadata": {
    "id": "osR9Ea7GusEb"
   },
   "source": [
    "And see a taste of how is the data, for both tables."
   ]
  },
  {
   "cell_type": "code",
   "execution_count": 4,
   "metadata": {
    "colab": {
     "base_uri": "https://localhost:8080/",
     "height": 479
    },
    "id": "sD7urgRfusEb",
    "outputId": "f0ca3f44-3b9c-488e-d7c9-cd1c4c2e65f7"
   },
   "outputs": [
    {
     "data": {
      "text/html": [
       "<div>\n",
       "<style scoped>\n",
       "    .dataframe tbody tr th:only-of-type {\n",
       "        vertical-align: middle;\n",
       "    }\n",
       "\n",
       "    .dataframe tbody tr th {\n",
       "        vertical-align: top;\n",
       "    }\n",
       "\n",
       "    .dataframe thead th {\n",
       "        text-align: right;\n",
       "    }\n",
       "</style>\n",
       "<table border=\"1\" class=\"dataframe\">\n",
       "  <thead>\n",
       "    <tr style=\"text-align: right;\">\n",
       "      <th></th>\n",
       "      <th>_id</th>\n",
       "      <th>user_id</th>\n",
       "      <th>account_id</th>\n",
       "      <th>account_name</th>\n",
       "      <th>description</th>\n",
       "      <th>type</th>\n",
       "      <th>amount</th>\n",
       "      <th>date</th>\n",
       "      <th>extra_fields.category.0</th>\n",
       "      <th>extra_fields.category.1</th>\n",
       "      <th>extra_fields.category.2</th>\n",
       "      <th>extra_fields.category_id</th>\n",
       "      <th>extra_fields.merchant_name</th>\n",
       "      <th>extra_fields.name</th>\n",
       "      <th>extra_fields.payment_channel</th>\n",
       "      <th>extra_fields.payment_meta.payment_method</th>\n",
       "      <th>created_at</th>\n",
       "    </tr>\n",
       "  </thead>\n",
       "  <tbody>\n",
       "    <tr>\n",
       "      <th>0</th>\n",
       "      <td>4D2119A1-03D9-48F2-99B7-FEDD80454431</td>\n",
       "      <td>94102846-0B6D-45D8-AFD1-DA80C54F6746</td>\n",
       "      <td>88F8D694-AFF0-4CFC-BBB6-C89D18059472</td>\n",
       "      <td>Chase - Plaid Money Market (4444)</td>\n",
       "      <td>ACH Electronic CreditGUSTO PAY 123456</td>\n",
       "      <td>expense</td>\n",
       "      <td>-5850.000</td>\n",
       "      <td>2021-06-08T00:00:00.000Z</td>\n",
       "      <td>Transfer</td>\n",
       "      <td>Debit</td>\n",
       "      <td>NaN</td>\n",
       "      <td>21006000.000</td>\n",
       "      <td>NaN</td>\n",
       "      <td>ACH Electronic CreditGUSTO PAY 123456</td>\n",
       "      <td>other</td>\n",
       "      <td>ACH</td>\n",
       "      <td>2021-06-18T19:14:32.075Z</td>\n",
       "    </tr>\n",
       "    <tr>\n",
       "      <th>1</th>\n",
       "      <td>1A6F66DA-2E0F-435D-B10E-E9B5C5A37FE0</td>\n",
       "      <td>94102846-0B6D-45D8-AFD1-DA80C54F6746</td>\n",
       "      <td>88F8D694-AFF0-4CFC-BBB6-C89D18059472</td>\n",
       "      <td>Chase - Plaid Money Market (4444)</td>\n",
       "      <td>ACH Electronic CreditGUSTO PAY 123456</td>\n",
       "      <td>expense</td>\n",
       "      <td>-5850.000</td>\n",
       "      <td>2021-05-09T00:00:00.000Z</td>\n",
       "      <td>Transfer</td>\n",
       "      <td>Debit</td>\n",
       "      <td>NaN</td>\n",
       "      <td>21006000.000</td>\n",
       "      <td>NaN</td>\n",
       "      <td>ACH Electronic CreditGUSTO PAY 123456</td>\n",
       "      <td>other</td>\n",
       "      <td>ACH</td>\n",
       "      <td>2021-06-18T19:14:32.075Z</td>\n",
       "    </tr>\n",
       "    <tr>\n",
       "      <th>2</th>\n",
       "      <td>99F0E0C2-A3CF-4293-87AC-EA2CD82EE3CB</td>\n",
       "      <td>94102846-0B6D-45D8-AFD1-DA80C54F6746</td>\n",
       "      <td>88F8D694-AFF0-4CFC-BBB6-C89D18059472</td>\n",
       "      <td>Chase - Plaid Money Market (4444)</td>\n",
       "      <td>ACH Electronic CreditGUSTO PAY 123456</td>\n",
       "      <td>expense</td>\n",
       "      <td>-5850.000</td>\n",
       "      <td>2021-04-09T00:00:00.000Z</td>\n",
       "      <td>Transfer</td>\n",
       "      <td>Debit</td>\n",
       "      <td>NaN</td>\n",
       "      <td>21006000.000</td>\n",
       "      <td>NaN</td>\n",
       "      <td>ACH Electronic CreditGUSTO PAY 123456</td>\n",
       "      <td>other</td>\n",
       "      <td>ACH</td>\n",
       "      <td>2021-06-18T19:14:32.075Z</td>\n",
       "    </tr>\n",
       "    <tr>\n",
       "      <th>3</th>\n",
       "      <td>28D4C5D0-2DF1-4B9F-8895-109CE77DFAFA</td>\n",
       "      <td>94102846-0B6D-45D8-AFD1-DA80C54F6746</td>\n",
       "      <td>88F8D694-AFF0-4CFC-BBB6-C89D18059472</td>\n",
       "      <td>Chase - Plaid Money Market (4444)</td>\n",
       "      <td>ACH Electronic CreditGUSTO PAY 123456</td>\n",
       "      <td>expense</td>\n",
       "      <td>-5850.000</td>\n",
       "      <td>2021-03-10T00:00:00.000Z</td>\n",
       "      <td>Transfer</td>\n",
       "      <td>Debit</td>\n",
       "      <td>NaN</td>\n",
       "      <td>21006000.000</td>\n",
       "      <td>NaN</td>\n",
       "      <td>ACH Electronic CreditGUSTO PAY 123456</td>\n",
       "      <td>other</td>\n",
       "      <td>ACH</td>\n",
       "      <td>2021-06-18T19:14:32.075Z</td>\n",
       "    </tr>\n",
       "    <tr>\n",
       "      <th>4</th>\n",
       "      <td>77223F04-ACBF-49C8-B101-DAD9B5F2E1A7</td>\n",
       "      <td>94102846-0B6D-45D8-AFD1-DA80C54F6746</td>\n",
       "      <td>88F8D694-AFF0-4CFC-BBB6-C89D18059472</td>\n",
       "      <td>Chase - Plaid Money Market (4444)</td>\n",
       "      <td>ACH Electronic CreditGUSTO PAY 123456</td>\n",
       "      <td>expense</td>\n",
       "      <td>-5850.000</td>\n",
       "      <td>2021-02-08T00:00:00.000Z</td>\n",
       "      <td>Transfer</td>\n",
       "      <td>Debit</td>\n",
       "      <td>NaN</td>\n",
       "      <td>21006000.000</td>\n",
       "      <td>NaN</td>\n",
       "      <td>ACH Electronic CreditGUSTO PAY 123456</td>\n",
       "      <td>other</td>\n",
       "      <td>ACH</td>\n",
       "      <td>2021-06-18T19:14:32.075Z</td>\n",
       "    </tr>\n",
       "  </tbody>\n",
       "</table>\n",
       "</div>"
      ],
      "text/plain": [
       "                                    _id  ...                created_at\n",
       "0  4D2119A1-03D9-48F2-99B7-FEDD80454431  ...  2021-06-18T19:14:32.075Z\n",
       "1  1A6F66DA-2E0F-435D-B10E-E9B5C5A37FE0  ...  2021-06-18T19:14:32.075Z\n",
       "2  99F0E0C2-A3CF-4293-87AC-EA2CD82EE3CB  ...  2021-06-18T19:14:32.075Z\n",
       "3  28D4C5D0-2DF1-4B9F-8895-109CE77DFAFA  ...  2021-06-18T19:14:32.075Z\n",
       "4  77223F04-ACBF-49C8-B101-DAD9B5F2E1A7  ...  2021-06-18T19:14:32.075Z\n",
       "\n",
       "[5 rows x 17 columns]"
      ]
     },
     "execution_count": 4,
     "metadata": {
      "tags": []
     },
     "output_type": "execute_result"
    }
   ],
   "source": [
    "transactions.head()"
   ]
  },
  {
   "cell_type": "code",
   "execution_count": 5,
   "metadata": {
    "colab": {
     "base_uri": "https://localhost:8080/",
     "height": 204
    },
    "id": "qGCw5fEIusEc",
    "outputId": "bfe5efff-6048-4469-f6bc-59a3d1fbced7"
   },
   "outputs": [
    {
     "data": {
      "text/html": [
       "<div>\n",
       "<style scoped>\n",
       "    .dataframe tbody tr th:only-of-type {\n",
       "        vertical-align: middle;\n",
       "    }\n",
       "\n",
       "    .dataframe tbody tr th {\n",
       "        vertical-align: top;\n",
       "    }\n",
       "\n",
       "    .dataframe thead th {\n",
       "        text-align: right;\n",
       "    }\n",
       "</style>\n",
       "<table border=\"1\" class=\"dataframe\">\n",
       "  <thead>\n",
       "    <tr style=\"text-align: right;\">\n",
       "      <th></th>\n",
       "      <th>id</th>\n",
       "      <th>created_at</th>\n",
       "      <th>date_of_birth</th>\n",
       "      <th>gender</th>\n",
       "      <th>country</th>\n",
       "      <th>state</th>\n",
       "      <th>city</th>\n",
       "    </tr>\n",
       "  </thead>\n",
       "  <tbody>\n",
       "    <tr>\n",
       "      <th>0</th>\n",
       "      <td>131d8363-e2a6-4c60-acef-da03e6bfbdc4</td>\n",
       "      <td>2020-03-11 19:38:35</td>\n",
       "      <td>1990-08-16</td>\n",
       "      <td>male</td>\n",
       "      <td>US</td>\n",
       "      <td>CA</td>\n",
       "      <td>San Francisco</td>\n",
       "    </tr>\n",
       "    <tr>\n",
       "      <th>1</th>\n",
       "      <td>831216da-744b-48fd-b53f-35515ab96621</td>\n",
       "      <td>2020-05-01 13:09:00</td>\n",
       "      <td>1933-11-22</td>\n",
       "      <td>NaN</td>\n",
       "      <td>US</td>\n",
       "      <td>WA</td>\n",
       "      <td>Tonasket</td>\n",
       "    </tr>\n",
       "    <tr>\n",
       "      <th>2</th>\n",
       "      <td>ad7226ed-2d26-45fd-ab37-c3823cd5db0c</td>\n",
       "      <td>2020-03-11 13:45:27</td>\n",
       "      <td>1986-02-02</td>\n",
       "      <td>NaN</td>\n",
       "      <td>US</td>\n",
       "      <td>NY</td>\n",
       "      <td>New York</td>\n",
       "    </tr>\n",
       "    <tr>\n",
       "      <th>3</th>\n",
       "      <td>47f21175-1185-4fa3-b928-b2bfabcc42d5</td>\n",
       "      <td>2020-03-11 16:09:06</td>\n",
       "      <td>1990-01-01</td>\n",
       "      <td>male</td>\n",
       "      <td>US</td>\n",
       "      <td>CA</td>\n",
       "      <td>San Francisco</td>\n",
       "    </tr>\n",
       "    <tr>\n",
       "      <th>4</th>\n",
       "      <td>1029f5f6-04a3-486f-af2c-716d6b6006e2</td>\n",
       "      <td>2020-03-11 13:47:10</td>\n",
       "      <td>NaN</td>\n",
       "      <td>NaN</td>\n",
       "      <td>US</td>\n",
       "      <td>NaN</td>\n",
       "      <td>NaN</td>\n",
       "    </tr>\n",
       "  </tbody>\n",
       "</table>\n",
       "</div>"
      ],
      "text/plain": [
       "                                     id  ...           city\n",
       "0  131d8363-e2a6-4c60-acef-da03e6bfbdc4  ...  San Francisco\n",
       "1  831216da-744b-48fd-b53f-35515ab96621  ...       Tonasket\n",
       "2  ad7226ed-2d26-45fd-ab37-c3823cd5db0c  ...       New York\n",
       "3  47f21175-1185-4fa3-b928-b2bfabcc42d5  ...  San Francisco\n",
       "4  1029f5f6-04a3-486f-af2c-716d6b6006e2  ...            NaN\n",
       "\n",
       "[5 rows x 7 columns]"
      ]
     },
     "execution_count": 5,
     "metadata": {
      "tags": []
     },
     "output_type": "execute_result"
    }
   ],
   "source": [
    "users.head()"
   ]
  },
  {
   "cell_type": "markdown",
   "metadata": {
    "id": "2x21rayrusEc"
   },
   "source": [
    "From inspecting the date, I found some state and city names with invalid that, so we'll proceed to cleanse those."
   ]
  },
  {
   "cell_type": "code",
   "execution_count": 6,
   "metadata": {
    "id": "q8rKB8UXusEc"
   },
   "outputs": [],
   "source": [
    "# First cleansing city column\n",
    "users = users[users.city.str.replace(' ','').str.replace('.','').str.isalpha()==True]\n",
    "\n",
    "# Then to the state column\n",
    "users = users[users.state.str.isalpha()==True]"
   ]
  },
  {
   "cell_type": "markdown",
   "metadata": {
    "id": "ZXK5uOCqusEd"
   },
   "source": [
    "Then we'll see the types of data we're dealing with."
   ]
  },
  {
   "cell_type": "code",
   "execution_count": 7,
   "metadata": {
    "colab": {
     "base_uri": "https://localhost:8080/"
    },
    "id": "hQ2hRVGNusEd",
    "outputId": "b66f1a70-41b5-4145-cea7-f18e7f48a6e9"
   },
   "outputs": [
    {
     "name": "stdout",
     "output_type": "stream",
     "text": [
      "<class 'pandas.core.frame.DataFrame'>\n",
      "RangeIndex: 11059 entries, 0 to 11058\n",
      "Data columns (total 17 columns):\n",
      " #   Column                                    Non-Null Count  Dtype  \n",
      "---  ------                                    --------------  -----  \n",
      " 0   _id                                       11059 non-null  object \n",
      " 1   user_id                                   11059 non-null  object \n",
      " 2   account_id                                11059 non-null  object \n",
      " 3   account_name                              11059 non-null  object \n",
      " 4   description                               8317 non-null   object \n",
      " 5   type                                      11059 non-null  object \n",
      " 6   amount                                    11059 non-null  float64\n",
      " 7   date                                      11059 non-null  object \n",
      " 8   extra_fields.category.0                   8317 non-null   object \n",
      " 9   extra_fields.category.1                   7874 non-null   object \n",
      " 10  extra_fields.category.2                   1671 non-null   object \n",
      " 11  extra_fields.category_id                  8317 non-null   float64\n",
      " 12  extra_fields.merchant_name                5895 non-null   object \n",
      " 13  extra_fields.name                         8317 non-null   object \n",
      " 14  extra_fields.payment_channel              8317 non-null   object \n",
      " 15  extra_fields.payment_meta.payment_method  425 non-null    object \n",
      " 16  created_at                                11059 non-null  object \n",
      "dtypes: float64(2), object(15)\n",
      "memory usage: 1.4+ MB\n"
     ]
    }
   ],
   "source": [
    "transactions.info()"
   ]
  },
  {
   "cell_type": "code",
   "execution_count": 8,
   "metadata": {
    "colab": {
     "base_uri": "https://localhost:8080/"
    },
    "id": "gS0keICZusEd",
    "outputId": "f6658e42-74aa-4ec3-8530-a497a9b6a1de"
   },
   "outputs": [
    {
     "name": "stdout",
     "output_type": "stream",
     "text": [
      "<class 'pandas.core.frame.DataFrame'>\n",
      "Int64Index: 624 entries, 0 to 802\n",
      "Data columns (total 7 columns):\n",
      " #   Column         Non-Null Count  Dtype \n",
      "---  ------         --------------  ----- \n",
      " 0   id             624 non-null    object\n",
      " 1   created_at     624 non-null    object\n",
      " 2   date_of_birth  623 non-null    object\n",
      " 3   gender         50 non-null     object\n",
      " 4   country        624 non-null    object\n",
      " 5   state          624 non-null    object\n",
      " 6   city           624 non-null    object\n",
      "dtypes: object(7)\n",
      "memory usage: 39.0+ KB\n"
     ]
    }
   ],
   "source": [
    "users.info()"
   ]
  },
  {
   "cell_type": "markdown",
   "metadata": {
    "id": "nPi9hgQ4usEe"
   },
   "source": [
    "All the data seems to be imported with the right data type. We'll have to deal with datetime columns, but we'll deal with that later on.\n",
    "\n",
    "Now we'll check how many unique categories we have on the categorical part of this data."
   ]
  },
  {
   "cell_type": "code",
   "execution_count": 9,
   "metadata": {
    "colab": {
     "base_uri": "https://localhost:8080/"
    },
    "id": "wzaMavpLusEe",
    "outputId": "acdfcfc2-bfe8-4e87-f0ac-8d1e0bff52b9"
   },
   "outputs": [
    {
     "data": {
      "text/plain": [
       "_id                                         11059\n",
       "user_id                                        84\n",
       "account_id                                    118\n",
       "account_name                                   95\n",
       "description                                    15\n",
       "type                                            3\n",
       "date                                          547\n",
       "extra_fields.category.0                         6\n",
       "extra_fields.category.1                         9\n",
       "extra_fields.category.2                         2\n",
       "extra_fields.merchant_name                      9\n",
       "extra_fields.name                              15\n",
       "extra_fields.payment_channel                    2\n",
       "extra_fields.payment_meta.payment_method        1\n",
       "created_at                                    665\n",
       "dtype: int64"
      ]
     },
     "execution_count": 9,
     "metadata": {
      "tags": []
     },
     "output_type": "execute_result"
    }
   ],
   "source": [
    "transactions.select_dtypes('object').nunique()"
   ]
  },
  {
   "cell_type": "code",
   "execution_count": 10,
   "metadata": {
    "colab": {
     "base_uri": "https://localhost:8080/"
    },
    "id": "1pH4ikCBusEf",
    "outputId": "a0b0fb7d-a5d4-4286-a101-02ccf8fab450"
   },
   "outputs": [
    {
     "data": {
      "text/plain": [
       "id               624\n",
       "created_at       624\n",
       "date_of_birth    116\n",
       "gender             4\n",
       "country            1\n",
       "state             28\n",
       "city             120\n",
       "dtype: int64"
      ]
     },
     "execution_count": 10,
     "metadata": {
      "tags": []
     },
     "output_type": "execute_result"
    }
   ],
   "source": [
    "users.select_dtypes('object').nunique()"
   ]
  },
  {
   "cell_type": "markdown",
   "metadata": {
    "id": "xeEUdkMFusEf"
   },
   "source": [
    "There's a total of 84 users on the transactions data, that's important because this is the entity we'll consider when training the model and our input table will be restricted to this number since we want the algorithm to group the users according to their buying patterns.\n",
    "\n",
    "We'll ignore the id columns, since they do not bring any extra information to the analysis.\n",
    "\n",
    "Now, we'll check how the transactions' amount is distributed."
   ]
  },
  {
   "cell_type": "code",
   "execution_count": 11,
   "metadata": {
    "colab": {
     "base_uri": "https://localhost:8080/"
    },
    "id": "Pgh4YxMwusEf",
    "outputId": "57111dff-7312-4d77-bbac-4ed51287df2d"
   },
   "outputs": [
    {
     "data": {
      "text/plain": [
       "_id                                         0.000\n",
       "user_id                                     0.000\n",
       "account_id                                  0.000\n",
       "account_name                                0.000\n",
       "description                                24.794\n",
       "type                                        0.000\n",
       "amount                                      0.000\n",
       "date                                        0.000\n",
       "extra_fields.category.0                    24.794\n",
       "extra_fields.category.1                    28.800\n",
       "extra_fields.category.2                    84.890\n",
       "extra_fields.category_id                   24.794\n",
       "extra_fields.merchant_name                 46.695\n",
       "extra_fields.name                          24.794\n",
       "extra_fields.payment_channel               24.794\n",
       "extra_fields.payment_meta.payment_method   96.157\n",
       "created_at                                  0.000\n",
       "dtype: float64"
      ]
     },
     "execution_count": 11,
     "metadata": {
      "tags": []
     },
     "output_type": "execute_result"
    }
   ],
   "source": [
    "# Calculating the percentage of missing data on each column for both datasets\n",
    "transactions.isna().sum()/len(transactions)*100"
   ]
  },
  {
   "cell_type": "code",
   "execution_count": 12,
   "metadata": {
    "colab": {
     "base_uri": "https://localhost:8080/"
    },
    "id": "vU7suMrXusEg",
    "outputId": "3845ea0f-1226-41f5-d0de-5ef199bb136c"
   },
   "outputs": [
    {
     "data": {
      "text/plain": [
       "id               0.000\n",
       "created_at       0.000\n",
       "date_of_birth    0.160\n",
       "gender          91.987\n",
       "country          0.000\n",
       "state            0.000\n",
       "city             0.000\n",
       "dtype: float64"
      ]
     },
     "execution_count": 12,
     "metadata": {
      "tags": []
     },
     "output_type": "execute_result"
    }
   ],
   "source": [
    "users.isna().sum()/len(users)*100"
   ]
  },
  {
   "cell_type": "markdown",
   "metadata": {
    "id": "wnDGU3cdusEg"
   },
   "source": [
    "Inspecting the missing that, we'll have to eliminate the usage of all variables that have a large amount of missing data, since it is not recommended to try any sort of imputation on these cases.\n",
    "\n",
    "On the table users, we'll get rid of `gender` variable, since it has 93% of unkknown data, we'll also eliminate the columns `extra_fields.payment_meta.payment_method`,  `extra_fields.merchant_name` and `extra_fields.category.2` from the transactions table, since they also have a high percentage of missing data."
   ]
  },
  {
   "cell_type": "code",
   "execution_count": 13,
   "metadata": {
    "id": "gjhtvOXsusEg"
   },
   "outputs": [],
   "source": [
    "users_dropped_columns = ['gender']\n",
    "transactions_dropped_columns = ['extra_fields.payment_meta.payment_method', 'extra_fields.merchant_name', 'extra_fields.category.2']"
   ]
  },
  {
   "cell_type": "code",
   "execution_count": 14,
   "metadata": {
    "id": "V65ruqNWusEh"
   },
   "outputs": [],
   "source": [
    "users = users.copy().drop(users_dropped_columns, axis=1)\n",
    "transactions = transactions.copy().drop(transactions_dropped_columns, axis=1)"
   ]
  },
  {
   "cell_type": "code",
   "execution_count": 15,
   "metadata": {
    "id": "mzeECjIpusEh"
   },
   "outputs": [],
   "source": [
    "# Transforming datetime fields in datetime format\n",
    "## table users\n",
    "users.date_of_birth = pd.to_datetime(users.date_of_birth, format='%Y-%m-%d', errors='coerce')\n",
    "users.created_at = pd.to_datetime(users.created_at, format='%Y-%m-%d %H:%M:%S', errors='coerce')\n",
    "\n",
    "## table transactions\n",
    "transactions.created_at = pd.to_datetime(transactions.created_at)\n",
    "transactions.date = pd.to_datetime(transactions.date)"
   ]
  },
  {
   "cell_type": "code",
   "execution_count": 16,
   "metadata": {
    "id": "NoC2aYfYusEh"
   },
   "outputs": [],
   "source": [
    "#Calculating user age, considering a year to be 365.25 days\n",
    "users['age'] = (users.created_at - users.date_of_birth).apply(lambda x: x.days).divide(365.25)\n",
    "\n",
    "#Now we can drop created_at and date_of_birth columns\n",
    "users = users.drop(['created_at', 'date_of_birth'], axis=1)"
   ]
  },
  {
   "cell_type": "markdown",
   "metadata": {
    "id": "KvyC4j2FusEi"
   },
   "source": [
    "I observed that `user_id` column on the transactions table is capitalized, while on the users table it is not. So in order to join/merge both tables I lowered the entire string on the transactions table."
   ]
  },
  {
   "cell_type": "code",
   "execution_count": 17,
   "metadata": {
    "id": "0gXUkJR7usEi"
   },
   "outputs": [],
   "source": [
    "transactions.user_id = transactions.user_id.apply(lambda x: str.lower(x))"
   ]
  },
  {
   "cell_type": "markdown",
   "metadata": {
    "id": "G603tyIkusEi"
   },
   "source": [
    "Lastly, the clustering algorithm we'll be using does not know how to deal with missing data. For the column `age` we'll be filling the missing data with the median. For the table transactions, since all the missing data we have is for categorical data, we'll simply substitute the missings for the \"Not Informed\" string, which will be considered a new category on each column."
   ]
  },
  {
   "cell_type": "code",
   "execution_count": 18,
   "metadata": {
    "id": "n6tyaHgzusEj"
   },
   "outputs": [],
   "source": [
    "users.age.fillna(users.age.median(), inplace=True)\n",
    "transactions.fillna(\"Not Informed\", inplace=True)"
   ]
  },
  {
   "cell_type": "markdown",
   "metadata": {
    "id": "f1Tkb2drusEj"
   },
   "source": [
    "## Step 3 - Feature Engineering\n",
    "\n",
    "As mentioned before, the basic element for our clustering algorithm will be user, so we'll also have to group the data on the transactions table to represent each user.\n",
    "\n",
    "The first variables we'll create are recency, frequency and ammount considering the number of subgroups available."
   ]
  },
  {
   "cell_type": "code",
   "execution_count": 19,
   "metadata": {
    "colab": {
     "base_uri": "https://localhost:8080/"
    },
    "id": "w_6X9WJNusEk",
    "outputId": "30f0c9e8-efa7-403b-f04b-2ea628c42dea"
   },
   "outputs": [
    {
     "name": "stderr",
     "output_type": "stream",
     "text": [
      "/usr/local/lib/python3.7/dist-packages/ipykernel_launcher.py:1: FutureWarning: Indexing with multiple keys (implicitly converted to a tuple of keys) will be deprecated, use a list instead.\n",
      "  \"\"\"Entry point for launching an IPython kernel.\n"
     ]
    }
   ],
   "source": [
    "df_to_calculate_recency = transactions.groupby('user_id')['date','created_at'].max()\n",
    "df_to_calculate_recency['recency'] = (df_to_calculate_recency.created_at - df_to_calculate_recency.date).apply(lambda x: x.days)"
   ]
  },
  {
   "cell_type": "code",
   "execution_count": 20,
   "metadata": {
    "id": "fBO0e2UeusEk"
   },
   "outputs": [],
   "source": [
    "users = users.merge(df_to_calculate_recency.drop(['date','created_at'],axis=1), left_on='id', right_on='user_id')\n",
    "\n",
    "# On this merge we lost four users, which weren't found on the transactions table"
   ]
  },
  {
   "cell_type": "code",
   "execution_count": 21,
   "metadata": {
    "id": "GJ4EDD6iusEl"
   },
   "outputs": [],
   "source": [
    "# Calculating frequencies per type of transaction\n",
    "df_to_calculate_frequencies = transactions.groupby(['user_id', 'type'])['amount'].count().to_frame()\n",
    "df_to_calculate_frequencies = df_to_calculate_frequencies.unstack().fillna(0)\n",
    "df_to_calculate_frequencies.columns = df_to_calculate_frequencies.columns.get_level_values(1).str.lower().str.replace(' ', '_')\n",
    "df_to_calculate_frequencies = df_to_calculate_frequencies.add_suffix('_frequency')"
   ]
  },
  {
   "cell_type": "code",
   "execution_count": 22,
   "metadata": {
    "id": "4zjXS5wAusEm"
   },
   "outputs": [],
   "source": [
    "users = users.merge(df_to_calculate_frequencies, left_on='id', right_on='user_id')"
   ]
  },
  {
   "cell_type": "code",
   "execution_count": 23,
   "metadata": {
    "id": "8OVCUl2MusEo"
   },
   "outputs": [],
   "source": [
    "# Calculating ammounts per type of transaction\n",
    "df_to_calculate_total_ammount = transactions.groupby(['user_id', 'type'])['amount'].sum().to_frame()\n",
    "df_to_calculate_total_ammount = df_to_calculate_total_ammount.unstack().fillna(0)\n",
    "df_to_calculate_total_ammount.columns = df_to_calculate_total_ammount.columns.get_level_values(1).str.lower().str.replace(' ', '_')\n",
    "df_to_calculate_total_ammount = df_to_calculate_total_ammount.add_suffix('_ammount')"
   ]
  },
  {
   "cell_type": "code",
   "execution_count": 24,
   "metadata": {
    "id": "oFpO0gYausEp"
   },
   "outputs": [],
   "source": [
    "users = users.merge(df_to_calculate_total_ammount, left_on='id', right_on='user_id')"
   ]
  },
  {
   "cell_type": "code",
   "execution_count": 25,
   "metadata": {
    "id": "vDQF5yoNusEp"
   },
   "outputs": [],
   "source": [
    "# Calculating ammounts and frequencies per extra_fields.category.0 column\n",
    "# First Frequencies\n",
    "df_to_calculate_extra_field_freq = transactions.groupby(['user_id', 'extra_fields.category.0'])['amount'].count().to_frame()\n",
    "df_to_calculate_extra_field_freq = df_to_calculate_extra_field_freq.unstack().fillna(0)\n",
    "df_to_calculate_extra_field_freq.columns = df_to_calculate_extra_field_freq.columns.get_level_values(1).str.lower().str.replace(' ', '_')\n",
    "df_to_calculate_extra_field_freq = df_to_calculate_extra_field_freq.add_suffix('_frequency')\n",
    "\n",
    "# Then Ammounts\n",
    "df_to_calculate_extra_field_ammount = transactions.groupby(['user_id', 'extra_fields.category.0'])['amount'].sum().to_frame()\n",
    "df_to_calculate_extra_field_ammount = df_to_calculate_extra_field_ammount.unstack().fillna(0)\n",
    "df_to_calculate_extra_field_ammount.columns = df_to_calculate_extra_field_ammount.columns.get_level_values(1).str.lower().str.replace(' ', '_')\n",
    "df_to_calculate_extra_field_ammount = df_to_calculate_extra_field_ammount.add_suffix('_ammount')\n",
    "\n",
    "# Now merging everything on users table\n",
    "users = users.merge(df_to_calculate_extra_field_freq, left_on='id', right_on='user_id')\n",
    "users = users.merge(df_to_calculate_extra_field_ammount, left_on='id', right_on='user_id')"
   ]
  },
  {
   "cell_type": "markdown",
   "metadata": {
    "id": "gHt6CyV7RoQO"
   },
   "source": [
    "Since we are dealing with a time period, we shall check if the given data has the same time period for all users."
   ]
  },
  {
   "cell_type": "code",
   "execution_count": 26,
   "metadata": {
    "id": "gMuGchASNAhM"
   },
   "outputs": [],
   "source": [
    "user_days_delta =transactions.groupby('user_id').agg(\n",
    "    {\n",
    "        'date': ['min', 'max']\n",
    "    }\n",
    "\n",
    ")"
   ]
  },
  {
   "cell_type": "code",
   "execution_count": 27,
   "metadata": {
    "id": "ocAeEqZhNN-u"
   },
   "outputs": [],
   "source": [
    "user_days_delta.columns = ['min', 'max']"
   ]
  },
  {
   "cell_type": "code",
   "execution_count": 28,
   "metadata": {
    "id": "eaoNnKajOBs1"
   },
   "outputs": [],
   "source": [
    "days_delta = (user_days_delta['max'] - user_days_delta['min']).apply(lambda x: x.days)\n",
    "days_delta = days_delta.reset_index()\n",
    "days_delta.columns = ['id', 'days_delta']"
   ]
  },
  {
   "cell_type": "code",
   "execution_count": 29,
   "metadata": {
    "colab": {
     "base_uri": "https://localhost:8080/",
     "height": 419
    },
    "id": "SRll6_gTRz_s",
    "outputId": "9f91c19b-a215-4626-accf-1ecfa052b963"
   },
   "outputs": [
    {
     "data": {
      "text/html": [
       "<div>\n",
       "<style scoped>\n",
       "    .dataframe tbody tr th:only-of-type {\n",
       "        vertical-align: middle;\n",
       "    }\n",
       "\n",
       "    .dataframe tbody tr th {\n",
       "        vertical-align: top;\n",
       "    }\n",
       "\n",
       "    .dataframe thead th {\n",
       "        text-align: right;\n",
       "    }\n",
       "</style>\n",
       "<table border=\"1\" class=\"dataframe\">\n",
       "  <thead>\n",
       "    <tr style=\"text-align: right;\">\n",
       "      <th></th>\n",
       "      <th>id</th>\n",
       "      <th>days_delta</th>\n",
       "    </tr>\n",
       "  </thead>\n",
       "  <tbody>\n",
       "    <tr>\n",
       "      <th>18</th>\n",
       "      <td>3a386ba5-e8ba-47e9-97f5-1ad4c53442ec</td>\n",
       "      <td>745</td>\n",
       "    </tr>\n",
       "    <tr>\n",
       "      <th>42</th>\n",
       "      <td>887f4d30-bc68-4331-8e47-fb8dd0c1a5b1</td>\n",
       "      <td>741</td>\n",
       "    </tr>\n",
       "    <tr>\n",
       "      <th>14</th>\n",
       "      <td>2d1caf04-2c01-4bd8-b10b-65c74f32c971</td>\n",
       "      <td>739</td>\n",
       "    </tr>\n",
       "    <tr>\n",
       "      <th>45</th>\n",
       "      <td>94102846-0b6d-45d8-afd1-da80c54f6746</td>\n",
       "      <td>739</td>\n",
       "    </tr>\n",
       "    <tr>\n",
       "      <th>80</th>\n",
       "      <td>f7edccbc-5076-4b8d-a6e3-6bcc5bd98f63</td>\n",
       "      <td>737</td>\n",
       "    </tr>\n",
       "    <tr>\n",
       "      <th>...</th>\n",
       "      <td>...</td>\n",
       "      <td>...</td>\n",
       "    </tr>\n",
       "    <tr>\n",
       "      <th>1</th>\n",
       "      <td>0c8711b0-60e0-49fd-8353-781105dff09d</td>\n",
       "      <td>12</td>\n",
       "    </tr>\n",
       "    <tr>\n",
       "      <th>43</th>\n",
       "      <td>8b702fbf-5c0c-423a-b136-37756301f7d2</td>\n",
       "      <td>12</td>\n",
       "    </tr>\n",
       "    <tr>\n",
       "      <th>44</th>\n",
       "      <td>8fe993da-5714-40a8-8127-db12a83d40ab</td>\n",
       "      <td>12</td>\n",
       "    </tr>\n",
       "    <tr>\n",
       "      <th>46</th>\n",
       "      <td>96a8bf76-e5d1-4371-989c-f908584fa2d9</td>\n",
       "      <td>12</td>\n",
       "    </tr>\n",
       "    <tr>\n",
       "      <th>83</th>\n",
       "      <td>fed51501-3cf1-4333-914e-c792763eda9e</td>\n",
       "      <td>12</td>\n",
       "    </tr>\n",
       "  </tbody>\n",
       "</table>\n",
       "<p>84 rows × 2 columns</p>\n",
       "</div>"
      ],
      "text/plain": [
       "                                      id  days_delta\n",
       "18  3a386ba5-e8ba-47e9-97f5-1ad4c53442ec         745\n",
       "42  887f4d30-bc68-4331-8e47-fb8dd0c1a5b1         741\n",
       "14  2d1caf04-2c01-4bd8-b10b-65c74f32c971         739\n",
       "45  94102846-0b6d-45d8-afd1-da80c54f6746         739\n",
       "80  f7edccbc-5076-4b8d-a6e3-6bcc5bd98f63         737\n",
       "..                                   ...         ...\n",
       "1   0c8711b0-60e0-49fd-8353-781105dff09d          12\n",
       "43  8b702fbf-5c0c-423a-b136-37756301f7d2          12\n",
       "44  8fe993da-5714-40a8-8127-db12a83d40ab          12\n",
       "46  96a8bf76-e5d1-4371-989c-f908584fa2d9          12\n",
       "83  fed51501-3cf1-4333-914e-c792763eda9e          12\n",
       "\n",
       "[84 rows x 2 columns]"
      ]
     },
     "execution_count": 29,
     "metadata": {
      "tags": []
     },
     "output_type": "execute_result"
    }
   ],
   "source": [
    "days_delta.sort_values(by='days_delta', ascending=False)"
   ]
  },
  {
   "cell_type": "markdown",
   "metadata": {
    "id": "06CWn9XaSFH2"
   },
   "source": [
    "We have a huge difference between the timedelta considered for each users, hence we'll proceed to ponder all the frequencies and ammounts calculated by this value."
   ]
  },
  {
   "cell_type": "code",
   "execution_count": 30,
   "metadata": {
    "id": "PdMyp29aSa4L"
   },
   "outputs": [],
   "source": [
    "users = users.merge(days_delta, left_on='id', right_on='id'\u001c",
    ")"
   ]
  },
  {
   "cell_type": "code",
   "execution_count": 31,
   "metadata": {
    "colab": {
     "base_uri": "https://localhost:8080/"
    },
    "id": "vzQO5fhsusEq",
    "outputId": "5cad96d2-f094-4973-8134-13e190def57b"
   },
   "outputs": [
    {
     "data": {
      "text/plain": [
       "Index(['id', 'country', 'state', 'city', 'age', 'recency', 'expense_frequency',\n",
       "       'income_frequency', 'transfer_frequency_x', 'expense_ammount',\n",
       "       'income_ammount', 'transfer_ammount_x', 'food_and_drink_frequency',\n",
       "       'not_informed_frequency', 'payment_frequency', 'recreation_frequency',\n",
       "       'shops_frequency', 'transfer_frequency_y', 'travel_frequency',\n",
       "       'food_and_drink_ammount', 'not_informed_ammount', 'payment_ammount',\n",
       "       'recreation_ammount', 'shops_ammount', 'transfer_ammount_y',\n",
       "       'travel_ammount', 'days_delta'],\n",
       "      dtype='object')"
      ]
     },
     "execution_count": 31,
     "metadata": {
      "tags": []
     },
     "output_type": "execute_result"
    }
   ],
   "source": [
    "users.columns"
   ]
  },
  {
   "cell_type": "code",
   "execution_count": 32,
   "metadata": {
    "id": "ZuuNFTLBS0lt"
   },
   "outputs": [],
   "source": [
    "freq_amou_cols = ['expense_frequency',\n",
    "       'income_frequency', 'transfer_frequency_x', 'expense_ammount',\n",
    "       'income_ammount', 'transfer_ammount_x', 'food_and_drink_frequency',\n",
    "       'not_informed_frequency', 'payment_frequency', 'recreation_frequency',\n",
    "       'shops_frequency', 'transfer_frequency_y', 'travel_frequency',\n",
    "       'food_and_drink_ammount', 'not_informed_ammount', 'payment_ammount',\n",
    "       'recreation_ammount', 'shops_ammount', 'transfer_ammount_y',\n",
    "       'travel_ammount']"
   ]
  },
  {
   "cell_type": "code",
   "execution_count": 33,
   "metadata": {
    "id": "S2sORbX_TtRT"
   },
   "outputs": [],
   "source": [
    "for col in freq_amou_cols:\n",
    "  users[col+'_pondered'] = users[col]/users.days_delta"
   ]
  },
  {
   "cell_type": "markdown",
   "metadata": {
    "id": "GVdYhwud729h"
   },
   "source": [
    "## Step 4 - Training the clustering algorithm\n",
    "\n",
    "Since we have the State variable, which is a categorical faeture, I'll opt to use the k-prototypes algorithm, which alows the usage of both numerical and categorical features. I used [this article](https://towardsdatascience.com/the-k-prototype-as-clustering-algorithm-for-mixed-data-type-categorical-and-numerical-fe7c50538ebb) as inspiration as a base to train the model."
   ]
  },
  {
   "cell_type": "code",
   "execution_count": 34,
   "metadata": {
    "id": "tsNXF4nTUql7"
   },
   "outputs": [],
   "source": [
    "drop_cols = ['country', 'city', 'expense_frequency',\n",
    "       'income_frequency', 'transfer_frequency_x', 'expense_ammount',\n",
    "       'income_ammount', 'transfer_ammount_x', 'food_and_drink_frequency',\n",
    "       'not_informed_frequency', 'payment_frequency', 'recreation_frequency',\n",
    "       'shops_frequency', 'transfer_frequency_y', 'travel_frequency',\n",
    "       'food_and_drink_ammount', 'not_informed_ammount', 'payment_ammount',\n",
    "       'recreation_ammount', 'shops_ammount', 'transfer_ammount_y',\n",
    "       'travel_ammount', 'days_delta']"
   ]
  },
  {
   "cell_type": "code",
   "execution_count": 52,
   "metadata": {
    "id": "idsWW1kuusEq"
   },
   "outputs": [],
   "source": [
    "df = users.set_index('id').drop(drop_cols, axis=1)"
   ]
  },
  {
   "cell_type": "code",
   "execution_count": 53,
   "metadata": {
    "colab": {
     "base_uri": "https://localhost:8080/"
    },
    "id": "802ejp9dusEq",
    "outputId": "49d993d3-97ee-4779-a344-a5247c9cda6d"
   },
   "outputs": [
    {
     "name": "stdout",
     "output_type": "stream",
     "text": [
      "Categorical columns           : ['state']\n",
      "Categorical columns position  : [0]\n"
     ]
    }
   ],
   "source": [
    "# Get the position of categorical columns\n",
    "catColumnsPos = [df.columns.get_loc(col) for col in list(df.select_dtypes('object').columns)]\n",
    "print('Categorical columns           : {}'.format(list(df.select_dtypes('object').columns)))\n",
    "print('Categorical columns position  : {}'.format(catColumnsPos))"
   ]
  },
  {
   "cell_type": "code",
   "execution_count": 54,
   "metadata": {
    "colab": {
     "base_uri": "https://localhost:8080/"
    },
    "id": "pobDL2x9usEr",
    "outputId": "3703c003-a357-4739-e445-78268ae7c1cc"
   },
   "outputs": [
    {
     "data": {
      "text/plain": [
       "array([['NY', 34.10266940451746, 0, ..., 0.0, 0.0, 16.26687500000001],\n",
       "       ['CA', 32.525667351129364, 0, ..., 0.0, 0.0, 0.0],\n",
       "       ['IL', 33.34154688569473, 0, ..., 0.0, 0.0, 0.0],\n",
       "       ...,\n",
       "       ['NY', 21.462012320328544, 11, ..., 0.0, -406.25, 0.0],\n",
       "       ['CA', 31.17864476386037, 0, ..., -17.21763085399449,\n",
       "        -32.91834710743802, -1.0851928374655546],\n",
       "       ['NY', 63.14579055441479, 0, ..., -17.09986320109439,\n",
       "        0.13854993160054718, -17.09986320109439]], dtype=object)"
      ]
     },
     "execution_count": 54,
     "metadata": {
      "tags": []
     },
     "output_type": "execute_result"
    }
   ],
   "source": [
    "# Convert dataframe to matrix\n",
    "dfMatrix = df.to_numpy()\n",
    "dfMatrix"
   ]
  },
  {
   "cell_type": "code",
   "execution_count": 55,
   "metadata": {
    "colab": {
     "base_uri": "https://localhost:8080/",
     "height": 588
    },
    "id": "r5P94NWCusEr",
    "outputId": "97e01974-ebd6-429e-f7f9-b147561de008"
   },
   "outputs": [
    {
     "name": "stdout",
     "output_type": "stream",
     "text": [
      "Cluster initiation: 1\n",
      "Cluster initiation: 2\n",
      "Cluster initiation: 3\n",
      "Cluster initiation: 4\n",
      "Cluster initiation: 5\n"
     ]
    },
    {
     "data": {
      "image/png": "[encoded data removed]",
      "text/plain": [
       "<Figure size 800x480 with 1 Axes>"
      ]
     },
     "metadata": {
      "needs_background": "light",
      "tags": []
     },
     "output_type": "display_data"
    },
    {
     "data": {
      "text/plain": [
       "<ggplot: (8731846557629)>"
      ]
     },
     "execution_count": 55,
     "metadata": {
      "tags": []
     },
     "output_type": "execute_result"
    }
   ],
   "source": [
    "# Choose optimal K using Elbow method\n",
    "cost = []\n",
    "for cluster in range(1, 10):\n",
    "    try:\n",
    "        kprototype = KPrototypes(n_jobs = -1, n_clusters = cluster, init = 'Huang', random_state = 0)\n",
    "        kprototype.fit_predict(dfMatrix, categorical = catColumnsPos)\n",
    "        cost.append(kprototype.cost_)\n",
    "        print('Cluster initiation: {}'.format(cluster))\n",
    "    except:\n",
    "        break\n",
    "# Converting the results into a dataframe and plotting them\n",
    "df_cost = pd.DataFrame({'Cluster':range(1, len(cost)+1), 'Cost':cost})\n",
    "# Data viz\n",
    "plotnine.options.figure_size = (8, 4.8)\n",
    "(\n",
    "    ggplot(data = df_cost)+\n",
    "    geom_line(aes(x = 'Cluster',\n",
    "                  y = 'Cost'))+\n",
    "    geom_point(aes(x = 'Cluster',\n",
    "                   y = 'Cost'))+\n",
    "    geom_label(aes(x = 'Cluster',\n",
    "                   y = 'Cost',\n",
    "                   label = 'Cluster'),\n",
    "               size = 10,\n",
    "               nudge_y = 1000) +\n",
    "    labs(title = 'Optimal number of cluster with Elbow Method')+\n",
    "    xlab('Number of Clusters k')+\n",
    "    ylab('Cost')+\n",
    "    theme_minimal()\n",
    ")"
   ]
  },
  {
   "cell_type": "markdown",
   "metadata": {
    "id": "-GRPGFuM6dMp"
   },
   "source": [
    "Fromt he graph above, using the elbow method, I opted for choosing the number of clusters `k=2`."
   ]
  },
  {
   "cell_type": "code",
   "execution_count": 56,
   "metadata": {
    "colab": {
     "base_uri": "https://localhost:8080/"
    },
    "id": "NQ5tylMIusEs",
    "outputId": "0b96fefe-3224-40b9-aea3-88b5b02e4f8a"
   },
   "outputs": [
    {
     "data": {
      "text/plain": [
       "array([0, 1, 1, 0, 0, 0, 0, 0, 0, 0, 0, 0, 0, 0, 0, 0, 0, 0, 0, 0, 0, 0,\n",
       "       0, 0, 0, 0, 0, 0, 0, 0, 0, 0, 0, 0, 0, 0, 0, 0, 0, 0, 0, 0, 0, 0,\n",
       "       0, 0, 0, 0, 0, 0, 0, 0, 0, 0, 0, 0, 0, 1, 0, 0, 0, 0, 0, 0, 0, 0,\n",
       "       0, 0, 0, 0, 0, 1, 0, 1, 0, 0, 0, 0, 0, 0], dtype=uint16)"
      ]
     },
     "execution_count": 56,
     "metadata": {
      "tags": []
     },
     "output_type": "execute_result"
    }
   ],
   "source": [
    "# Fit the cluster\n",
    "kprototype = KPrototypes(n_jobs = -1, n_clusters = 2, init = 'Huang', random_state = 0)\n",
    "kprototype.fit_predict(dfMatrix, categorical = catColumnsPos)"
   ]
  },
  {
   "cell_type": "code",
   "execution_count": 57,
   "metadata": {
    "id": "Agbv5aJ6wWel"
   },
   "outputs": [],
   "source": [
    "# Add the cluster to the dataframe\n",
    "df['Cluster Labels'] = kprototype.labels_\n",
    "df['Segment'] = df['Cluster Labels'].map({0:'First', 1:'Second', 2:'Third', 3:'Fourth'})\n",
    "# Order the cluster\n",
    "df['Segment'] = df['Segment'].astype('category')\n",
    "# df['Segment'] = df['Segment'].cat.reorder_categories(['First','Second','Third','Fourth'])\n",
    "df['Segment'] = df['Segment'].cat.reorder_categories(['First','Second'])"
   ]
  },
  {
   "cell_type": "code",
   "execution_count": 58,
   "metadata": {
    "colab": {
     "base_uri": "https://localhost:8080/",
     "height": 997
    },
    "id": "UKqnklAfzH7D",
    "outputId": "910e1a38-7fd1-46bd-a92e-b081270678d8"
   },
   "outputs": [
    {
     "data": {
      "text/html": [
       "<div>\n",
       "<style scoped>\n",
       "    .dataframe tbody tr th:only-of-type {\n",
       "        vertical-align: middle;\n",
       "    }\n",
       "\n",
       "    .dataframe tbody tr th {\n",
       "        vertical-align: top;\n",
       "    }\n",
       "\n",
       "    .dataframe thead th {\n",
       "        text-align: right;\n",
       "    }\n",
       "</style>\n",
       "<table border=\"1\" class=\"dataframe\">\n",
       "  <thead>\n",
       "    <tr style=\"text-align: right;\">\n",
       "      <th></th>\n",
       "      <th>state</th>\n",
       "      <th>age</th>\n",
       "      <th>recency</th>\n",
       "      <th>expense_frequency_pondered</th>\n",
       "      <th>income_frequency_pondered</th>\n",
       "      <th>transfer_frequency_x_pondered</th>\n",
       "      <th>expense_ammount_pondered</th>\n",
       "      <th>income_ammount_pondered</th>\n",
       "      <th>transfer_ammount_x_pondered</th>\n",
       "      <th>food_and_drink_frequency_pondered</th>\n",
       "      <th>not_informed_frequency_pondered</th>\n",
       "      <th>payment_frequency_pondered</th>\n",
       "      <th>recreation_frequency_pondered</th>\n",
       "      <th>shops_frequency_pondered</th>\n",
       "      <th>transfer_frequency_y_pondered</th>\n",
       "      <th>travel_frequency_pondered</th>\n",
       "      <th>food_and_drink_ammount_pondered</th>\n",
       "      <th>not_informed_ammount_pondered</th>\n",
       "      <th>payment_ammount_pondered</th>\n",
       "      <th>recreation_ammount_pondered</th>\n",
       "      <th>shops_ammount_pondered</th>\n",
       "      <th>transfer_ammount_y_pondered</th>\n",
       "      <th>travel_ammount_pondered</th>\n",
       "      <th>Cluster Labels</th>\n",
       "      <th>Segment</th>\n",
       "    </tr>\n",
       "    <tr>\n",
       "      <th>id</th>\n",
       "      <th></th>\n",
       "      <th></th>\n",
       "      <th></th>\n",
       "      <th></th>\n",
       "      <th></th>\n",
       "      <th></th>\n",
       "      <th></th>\n",
       "      <th></th>\n",
       "      <th></th>\n",
       "      <th></th>\n",
       "      <th></th>\n",
       "      <th></th>\n",
       "      <th></th>\n",
       "      <th></th>\n",
       "      <th></th>\n",
       "      <th></th>\n",
       "      <th></th>\n",
       "      <th></th>\n",
       "      <th></th>\n",
       "      <th></th>\n",
       "      <th></th>\n",
       "      <th></th>\n",
       "      <th></th>\n",
       "      <th></th>\n",
       "      <th></th>\n",
       "    </tr>\n",
       "  </thead>\n",
       "  <tbody>\n",
       "    <tr>\n",
       "      <th>ad7226ed-2d26-45fd-ab37-c3823cd5db0c</th>\n",
       "      <td>NY</td>\n",
       "      <td>34.103</td>\n",
       "      <td>0</td>\n",
       "      <td>0.168</td>\n",
       "      <td>0.033</td>\n",
       "      <td>0.000</td>\n",
       "      <td>-3.924</td>\n",
       "      <td>16.667</td>\n",
       "      <td>0.000</td>\n",
       "      <td>0.100</td>\n",
       "      <td>0.000</td>\n",
       "      <td>0.000</td>\n",
       "      <td>0.000</td>\n",
       "      <td>0.000</td>\n",
       "      <td>0.000</td>\n",
       "      <td>0.101</td>\n",
       "      <td>-3.524</td>\n",
       "      <td>0.000</td>\n",
       "      <td>0.000</td>\n",
       "      <td>0.000</td>\n",
       "      <td>0.000</td>\n",
       "      <td>0.000</td>\n",
       "      <td>16.267</td>\n",
       "      <td>0</td>\n",
       "      <td>First</td>\n",
       "    </tr>\n",
       "    <tr>\n",
       "      <th>696fd855-cd7f-438d-80b0-b278037f9ca8</th>\n",
       "      <td>CA</td>\n",
       "      <td>32.526</td>\n",
       "      <td>0</td>\n",
       "      <td>0.167</td>\n",
       "      <td>0.292</td>\n",
       "      <td>0.000</td>\n",
       "      <td>-21.743</td>\n",
       "      <td>813.609</td>\n",
       "      <td>0.000</td>\n",
       "      <td>0.000</td>\n",
       "      <td>0.458</td>\n",
       "      <td>0.000</td>\n",
       "      <td>0.000</td>\n",
       "      <td>0.000</td>\n",
       "      <td>0.000</td>\n",
       "      <td>0.000</td>\n",
       "      <td>0.000</td>\n",
       "      <td>791.866</td>\n",
       "      <td>0.000</td>\n",
       "      <td>0.000</td>\n",
       "      <td>0.000</td>\n",
       "      <td>0.000</td>\n",
       "      <td>0.000</td>\n",
       "      <td>1</td>\n",
       "      <td>Second</td>\n",
       "    </tr>\n",
       "    <tr>\n",
       "      <th>b486d0b6-c135-4da4-8418-7040ddd823e9</th>\n",
       "      <td>IL</td>\n",
       "      <td>33.342</td>\n",
       "      <td>0</td>\n",
       "      <td>0.200</td>\n",
       "      <td>0.350</td>\n",
       "      <td>0.000</td>\n",
       "      <td>-26.091</td>\n",
       "      <td>976.331</td>\n",
       "      <td>0.000</td>\n",
       "      <td>0.000</td>\n",
       "      <td>0.550</td>\n",
       "      <td>0.000</td>\n",
       "      <td>0.000</td>\n",
       "      <td>0.000</td>\n",
       "      <td>0.000</td>\n",
       "      <td>0.000</td>\n",
       "      <td>0.000</td>\n",
       "      <td>950.239</td>\n",
       "      <td>0.000</td>\n",
       "      <td>0.000</td>\n",
       "      <td>0.000</td>\n",
       "      <td>0.000</td>\n",
       "      <td>0.000</td>\n",
       "      <td>1</td>\n",
       "      <td>Second</td>\n",
       "    </tr>\n",
       "    <tr>\n",
       "      <th>42e17652-ce67-4df9-b613-21563fdef1b3</th>\n",
       "      <td>NY</td>\n",
       "      <td>29.651</td>\n",
       "      <td>0</td>\n",
       "      <td>0.737</td>\n",
       "      <td>0.068</td>\n",
       "      <td>0.000</td>\n",
       "      <td>-281.580</td>\n",
       "      <td>34.247</td>\n",
       "      <td>0.000</td>\n",
       "      <td>0.337</td>\n",
       "      <td>0.000</td>\n",
       "      <td>0.066</td>\n",
       "      <td>0.068</td>\n",
       "      <td>0.066</td>\n",
       "      <td>0.000</td>\n",
       "      <td>0.268</td>\n",
       "      <td>-72.995</td>\n",
       "      <td>0.000</td>\n",
       "      <td>-136.668</td>\n",
       "      <td>-5.377</td>\n",
       "      <td>-32.877</td>\n",
       "      <td>0.000</td>\n",
       "      <td>0.584</td>\n",
       "      <td>0</td>\n",
       "      <td>First</td>\n",
       "    </tr>\n",
       "    <tr>\n",
       "      <th>3e7f8b0c-9111-466c-9a40-265f14019f13</th>\n",
       "      <td>VA</td>\n",
       "      <td>39.288</td>\n",
       "      <td>0</td>\n",
       "      <td>0.000</td>\n",
       "      <td>0.500</td>\n",
       "      <td>0.000</td>\n",
       "      <td>0.000</td>\n",
       "      <td>0.044</td>\n",
       "      <td>0.000</td>\n",
       "      <td>0.000</td>\n",
       "      <td>0.500</td>\n",
       "      <td>0.000</td>\n",
       "      <td>0.000</td>\n",
       "      <td>0.000</td>\n",
       "      <td>0.000</td>\n",
       "      <td>0.000</td>\n",
       "      <td>0.000</td>\n",
       "      <td>0.044</td>\n",
       "      <td>0.000</td>\n",
       "      <td>0.000</td>\n",
       "      <td>0.000</td>\n",
       "      <td>0.000</td>\n",
       "      <td>0.000</td>\n",
       "      <td>0</td>\n",
       "      <td>First</td>\n",
       "    </tr>\n",
       "    <tr>\n",
       "      <th>...</th>\n",
       "      <td>...</td>\n",
       "      <td>...</td>\n",
       "      <td>...</td>\n",
       "      <td>...</td>\n",
       "      <td>...</td>\n",
       "      <td>...</td>\n",
       "      <td>...</td>\n",
       "      <td>...</td>\n",
       "      <td>...</td>\n",
       "      <td>...</td>\n",
       "      <td>...</td>\n",
       "      <td>...</td>\n",
       "      <td>...</td>\n",
       "      <td>...</td>\n",
       "      <td>...</td>\n",
       "      <td>...</td>\n",
       "      <td>...</td>\n",
       "      <td>...</td>\n",
       "      <td>...</td>\n",
       "      <td>...</td>\n",
       "      <td>...</td>\n",
       "      <td>...</td>\n",
       "      <td>...</td>\n",
       "      <td>...</td>\n",
       "      <td>...</td>\n",
       "    </tr>\n",
       "    <tr>\n",
       "      <th>3a386ba5-e8ba-47e9-97f5-1ad4c53442ec</th>\n",
       "      <td>CT</td>\n",
       "      <td>31.546</td>\n",
       "      <td>0</td>\n",
       "      <td>1.291</td>\n",
       "      <td>0.203</td>\n",
       "      <td>0.101</td>\n",
       "      <td>-1112.831</td>\n",
       "      <td>50.079</td>\n",
       "      <td>-2.517</td>\n",
       "      <td>0.495</td>\n",
       "      <td>0.005</td>\n",
       "      <td>0.200</td>\n",
       "      <td>0.099</td>\n",
       "      <td>0.099</td>\n",
       "      <td>0.299</td>\n",
       "      <td>0.396</td>\n",
       "      <td>-109.160</td>\n",
       "      <td>0.001</td>\n",
       "      <td>-208.972</td>\n",
       "      <td>-7.797</td>\n",
       "      <td>-49.664</td>\n",
       "      <td>-689.184</td>\n",
       "      <td>-0.493</td>\n",
       "      <td>0</td>\n",
       "      <td>First</td>\n",
       "    </tr>\n",
       "    <tr>\n",
       "      <th>e9a5ee9a-e46c-43c9-9f68-a8c901f82ff4</th>\n",
       "      <td>NY</td>\n",
       "      <td>35.140</td>\n",
       "      <td>0</td>\n",
       "      <td>0.372</td>\n",
       "      <td>0.033</td>\n",
       "      <td>0.000</td>\n",
       "      <td>-146.931</td>\n",
       "      <td>16.529</td>\n",
       "      <td>0.000</td>\n",
       "      <td>0.168</td>\n",
       "      <td>0.000</td>\n",
       "      <td>0.034</td>\n",
       "      <td>0.033</td>\n",
       "      <td>0.034</td>\n",
       "      <td>0.000</td>\n",
       "      <td>0.135</td>\n",
       "      <td>-37.930</td>\n",
       "      <td>0.000</td>\n",
       "      <td>-71.574</td>\n",
       "      <td>-2.595</td>\n",
       "      <td>-17.218</td>\n",
       "      <td>0.000</td>\n",
       "      <td>-1.085</td>\n",
       "      <td>0</td>\n",
       "      <td>First</td>\n",
       "    </tr>\n",
       "    <tr>\n",
       "      <th>1ef60c75-570f-4b2d-8616-96098a998367</th>\n",
       "      <td>NY</td>\n",
       "      <td>21.462</td>\n",
       "      <td>11</td>\n",
       "      <td>0.069</td>\n",
       "      <td>0.000</td>\n",
       "      <td>0.000</td>\n",
       "      <td>-406.250</td>\n",
       "      <td>0.000</td>\n",
       "      <td>0.000</td>\n",
       "      <td>0.000</td>\n",
       "      <td>0.000</td>\n",
       "      <td>0.000</td>\n",
       "      <td>0.000</td>\n",
       "      <td>0.000</td>\n",
       "      <td>0.069</td>\n",
       "      <td>0.000</td>\n",
       "      <td>0.000</td>\n",
       "      <td>0.000</td>\n",
       "      <td>0.000</td>\n",
       "      <td>0.000</td>\n",
       "      <td>0.000</td>\n",
       "      <td>-406.250</td>\n",
       "      <td>0.000</td>\n",
       "      <td>0</td>\n",
       "      <td>First</td>\n",
       "    </tr>\n",
       "    <tr>\n",
       "      <th>30f4645f-21ec-425a-8ed6-eb1d3bb99e52</th>\n",
       "      <td>CA</td>\n",
       "      <td>31.179</td>\n",
       "      <td>0</td>\n",
       "      <td>0.405</td>\n",
       "      <td>0.066</td>\n",
       "      <td>0.033</td>\n",
       "      <td>-179.989</td>\n",
       "      <td>16.668</td>\n",
       "      <td>-0.826</td>\n",
       "      <td>0.168</td>\n",
       "      <td>0.000</td>\n",
       "      <td>0.067</td>\n",
       "      <td>0.033</td>\n",
       "      <td>0.034</td>\n",
       "      <td>0.066</td>\n",
       "      <td>0.135</td>\n",
       "      <td>-37.930</td>\n",
       "      <td>0.000</td>\n",
       "      <td>-72.400</td>\n",
       "      <td>-2.595</td>\n",
       "      <td>-17.218</td>\n",
       "      <td>-32.918</td>\n",
       "      <td>-1.085</td>\n",
       "      <td>0</td>\n",
       "      <td>First</td>\n",
       "    </tr>\n",
       "    <tr>\n",
       "      <th>72422c16-1712-4490-af97-32bdc39433c7</th>\n",
       "      <td>NY</td>\n",
       "      <td>63.146</td>\n",
       "      <td>0</td>\n",
       "      <td>0.204</td>\n",
       "      <td>0.186</td>\n",
       "      <td>0.033</td>\n",
       "      <td>-142.061</td>\n",
       "      <td>18.524</td>\n",
       "      <td>-0.821</td>\n",
       "      <td>0.068</td>\n",
       "      <td>0.153</td>\n",
       "      <td>0.067</td>\n",
       "      <td>0.033</td>\n",
       "      <td>0.034</td>\n",
       "      <td>0.033</td>\n",
       "      <td>0.034</td>\n",
       "      <td>-34.200</td>\n",
       "      <td>18.386</td>\n",
       "      <td>-71.905</td>\n",
       "      <td>-2.577</td>\n",
       "      <td>-17.100</td>\n",
       "      <td>0.139</td>\n",
       "      <td>-17.100</td>\n",
       "      <td>0</td>\n",
       "      <td>First</td>\n",
       "    </tr>\n",
       "  </tbody>\n",
       "</table>\n",
       "<p>80 rows × 25 columns</p>\n",
       "</div>"
      ],
      "text/plain": [
       "                                     state    age  ...  Cluster Labels  Segment\n",
       "id                                                 ...                         \n",
       "ad7226ed-2d26-45fd-ab37-c3823cd5db0c    NY 34.103  ...               0    First\n",
       "696fd855-cd7f-438d-80b0-b278037f9ca8    CA 32.526  ...               1   Second\n",
       "b486d0b6-c135-4da4-8418-7040ddd823e9    IL 33.342  ...               1   Second\n",
       "42e17652-ce67-4df9-b613-21563fdef1b3    NY 29.651  ...               0    First\n",
       "3e7f8b0c-9111-466c-9a40-265f14019f13    VA 39.288  ...               0    First\n",
       "...                                    ...    ...  ...             ...      ...\n",
       "3a386ba5-e8ba-47e9-97f5-1ad4c53442ec    CT 31.546  ...               0    First\n",
       "e9a5ee9a-e46c-43c9-9f68-a8c901f82ff4    NY 35.140  ...               0    First\n",
       "1ef60c75-570f-4b2d-8616-96098a998367    NY 21.462  ...               0    First\n",
       "30f4645f-21ec-425a-8ed6-eb1d3bb99e52    CA 31.179  ...               0    First\n",
       "72422c16-1712-4490-af97-32bdc39433c7    NY 63.146  ...               0    First\n",
       "\n",
       "[80 rows x 25 columns]"
      ]
     },
     "execution_count": 58,
     "metadata": {
      "tags": []
     },
     "output_type": "execute_result"
    }
   ],
   "source": [
    "df"
   ]
  },
  {
   "cell_type": "code",
   "execution_count": 59,
   "metadata": {
    "colab": {
     "base_uri": "https://localhost:8080/"
    },
    "id": "6sHFbu6a0bk2",
    "outputId": "976d7aef-c635-4e65-a687-74fa1621e379"
   },
   "outputs": [
    {
     "data": {
      "text/plain": [
       "Index(['state', 'age', 'recency', 'expense_frequency_pondered',\n",
       "       'income_frequency_pondered', 'transfer_frequency_x_pondered',\n",
       "       'expense_ammount_pondered', 'income_ammount_pondered',\n",
       "       'transfer_ammount_x_pondered', 'food_and_drink_frequency_pondered',\n",
       "       'not_informed_frequency_pondered', 'payment_frequency_pondered',\n",
       "       'recreation_frequency_pondered', 'shops_frequency_pondered',\n",
       "       'transfer_frequency_y_pondered', 'travel_frequency_pondered',\n",
       "       'food_and_drink_ammount_pondered', 'not_informed_ammount_pondered',\n",
       "       'payment_ammount_pondered', 'recreation_ammount_pondered',\n",
       "       'shops_ammount_pondered', 'transfer_ammount_y_pondered',\n",
       "       'travel_ammount_pondered', 'Cluster Labels', 'Segment'],\n",
       "      dtype='object')"
      ]
     },
     "execution_count": 59,
     "metadata": {
      "tags": []
     },
     "output_type": "execute_result"
    }
   ],
   "source": [
    "df.columns"
   ]
  },
  {
   "cell_type": "code",
   "execution_count": 60,
   "metadata": {
    "id": "ftDVOkC-z3sW"
   },
   "outputs": [],
   "source": [
    "# Cluster interpretation\n",
    "groups = df.rename(columns = {'Cluster Labels':'Total'}, inplace = True)\n",
    "groups = df.groupby('Segment').agg(\n",
    "    {\n",
    "        'Total':'count',\n",
    "        'state': lambda x: x.value_counts().index[0],\n",
    "        'age': 'mean',\n",
    "        'recency': 'mean',\n",
    "        'expense_frequency_pondered': 'mean',\n",
    "        'income_frequency_pondered': 'mean',\n",
    "        'transfer_frequency_x_pondered': 'mean',\n",
    "        'expense_ammount_pondered': 'mean',\n",
    "        'income_ammount_pondered': 'mean',\n",
    "        'transfer_ammount_x_pondered': 'mean',\n",
    "        'food_and_drink_frequency_pondered': 'mean',\n",
    "        'not_informed_frequency_pondered': 'mean',\n",
    "        'payment_frequency_pondered': 'mean',\n",
    "        'recreation_frequency_pondered': 'mean',\n",
    "        'shops_frequency_pondered': 'mean',\n",
    "        'transfer_frequency_y_pondered': 'mean',\n",
    "        'travel_frequency_pondered': 'mean',\n",
    "        'food_and_drink_ammount_pondered': 'mean',\n",
    "        'not_informed_ammount_pondered': 'mean',\n",
    "        'payment_ammount_pondered': 'mean',\n",
    "        'recreation_ammount_pondered': 'mean',\n",
    "        'shops_ammount_pondered': 'mean',\n",
    "        'transfer_ammount_y_pondered': 'mean',\n",
    "        'travel_ammount_pondered': 'mean'\n",
    "    }\n",
    ").reset_index()"
   ]
  },
  {
   "cell_type": "code",
   "execution_count": 61,
   "metadata": {
    "colab": {
     "base_uri": "https://localhost:8080/",
     "height": 131
    },
    "id": "P6XKIzXA0z-k",
    "outputId": "22a25b9b-82ee-4140-8280-3110c5ad7cd9"
   },
   "outputs": [
    {
     "data": {
      "text/html": [
       "<div>\n",
       "<style scoped>\n",
       "    .dataframe tbody tr th:only-of-type {\n",
       "        vertical-align: middle;\n",
       "    }\n",
       "\n",
       "    .dataframe tbody tr th {\n",
       "        vertical-align: top;\n",
       "    }\n",
       "\n",
       "    .dataframe thead th {\n",
       "        text-align: right;\n",
       "    }\n",
       "</style>\n",
       "<table border=\"1\" class=\"dataframe\">\n",
       "  <thead>\n",
       "    <tr style=\"text-align: right;\">\n",
       "      <th></th>\n",
       "      <th>Segment</th>\n",
       "      <th>Total</th>\n",
       "      <th>state</th>\n",
       "      <th>age</th>\n",
       "      <th>recency</th>\n",
       "      <th>expense_frequency_pondered</th>\n",
       "      <th>income_frequency_pondered</th>\n",
       "      <th>transfer_frequency_x_pondered</th>\n",
       "      <th>expense_ammount_pondered</th>\n",
       "      <th>income_ammount_pondered</th>\n",
       "      <th>transfer_ammount_x_pondered</th>\n",
       "      <th>food_and_drink_frequency_pondered</th>\n",
       "      <th>not_informed_frequency_pondered</th>\n",
       "      <th>payment_frequency_pondered</th>\n",
       "      <th>recreation_frequency_pondered</th>\n",
       "      <th>shops_frequency_pondered</th>\n",
       "      <th>transfer_frequency_y_pondered</th>\n",
       "      <th>travel_frequency_pondered</th>\n",
       "      <th>food_and_drink_ammount_pondered</th>\n",
       "      <th>not_informed_ammount_pondered</th>\n",
       "      <th>payment_ammount_pondered</th>\n",
       "      <th>recreation_ammount_pondered</th>\n",
       "      <th>shops_ammount_pondered</th>\n",
       "      <th>transfer_ammount_y_pondered</th>\n",
       "      <th>travel_ammount_pondered</th>\n",
       "    </tr>\n",
       "  </thead>\n",
       "  <tbody>\n",
       "    <tr>\n",
       "      <th>0</th>\n",
       "      <td>First</td>\n",
       "      <td>75</td>\n",
       "      <td>NY</td>\n",
       "      <td>32.283</td>\n",
       "      <td>0.160</td>\n",
       "      <td>0.071</td>\n",
       "      <td>0.436</td>\n",
       "      <td>0.005</td>\n",
       "      <td>-53.512</td>\n",
       "      <td>5.925</td>\n",
       "      <td>-0.113</td>\n",
       "      <td>0.030</td>\n",
       "      <td>0.425</td>\n",
       "      <td>0.009</td>\n",
       "      <td>0.005</td>\n",
       "      <td>0.005</td>\n",
       "      <td>0.013</td>\n",
       "      <td>0.025</td>\n",
       "      <td>-5.609</td>\n",
       "      <td>2.560</td>\n",
       "      <td>-10.338</td>\n",
       "      <td>-0.385</td>\n",
       "      <td>-2.460</td>\n",
       "      <td>-32.303</td>\n",
       "      <td>0.834</td>\n",
       "    </tr>\n",
       "    <tr>\n",
       "      <th>1</th>\n",
       "      <td>Second</td>\n",
       "      <td>5</td>\n",
       "      <td>NY</td>\n",
       "      <td>28.951</td>\n",
       "      <td>0.000</td>\n",
       "      <td>0.471</td>\n",
       "      <td>0.464</td>\n",
       "      <td>0.041</td>\n",
       "      <td>-252.763</td>\n",
       "      <td>1063.002</td>\n",
       "      <td>-1.014</td>\n",
       "      <td>0.100</td>\n",
       "      <td>0.615</td>\n",
       "      <td>0.061</td>\n",
       "      <td>0.020</td>\n",
       "      <td>0.020</td>\n",
       "      <td>0.080</td>\n",
       "      <td>0.080</td>\n",
       "      <td>-22.009</td>\n",
       "      <td>1024.432</td>\n",
       "      <td>-42.640</td>\n",
       "      <td>-1.572</td>\n",
       "      <td>-10.014</td>\n",
       "      <td>-138.873</td>\n",
       "      <td>-0.099</td>\n",
       "    </tr>\n",
       "  </tbody>\n",
       "</table>\n",
       "</div>"
      ],
      "text/plain": [
       "  Segment  Total  ... transfer_ammount_y_pondered  travel_ammount_pondered\n",
       "0   First     75  ...                     -32.303                    0.834\n",
       "1  Second      5  ...                    -138.873                   -0.099\n",
       "\n",
       "[2 rows x 25 columns]"
      ]
     },
     "execution_count": 61,
     "metadata": {
      "tags": []
     },
     "output_type": "execute_result"
    }
   ],
   "source": [
    "groups"
   ]
  },
  {
   "cell_type": "code",
   "execution_count": 62,
   "metadata": {
    "colab": {
     "base_uri": "https://localhost:8080/",
     "height": 222
    },
    "id": "HBZZAqHpW4A8",
    "outputId": "27246f15-2228-47d4-ec92-d6a6c7e672c4"
   },
   "outputs": [
    {
     "data": {
      "text/html": [
       "<div>\n",
       "<style scoped>\n",
       "    .dataframe tbody tr th:only-of-type {\n",
       "        vertical-align: middle;\n",
       "    }\n",
       "\n",
       "    .dataframe tbody tr th {\n",
       "        vertical-align: top;\n",
       "    }\n",
       "\n",
       "    .dataframe thead tr th {\n",
       "        text-align: left;\n",
       "    }\n",
       "\n",
       "    .dataframe thead tr:last-of-type th {\n",
       "        text-align: right;\n",
       "    }\n",
       "</style>\n",
       "<table border=\"1\" class=\"dataframe\">\n",
       "  <thead>\n",
       "    <tr>\n",
       "      <th></th>\n",
       "      <th colspan=\"8\" halign=\"left\">Total</th>\n",
       "      <th colspan=\"8\" halign=\"left\">age</th>\n",
       "      <th colspan=\"8\" halign=\"left\">recency</th>\n",
       "      <th colspan=\"8\" halign=\"left\">expense_frequency_pondered</th>\n",
       "      <th colspan=\"8\" halign=\"left\">income_frequency_pondered</th>\n",
       "      <th>...</th>\n",
       "      <th colspan=\"8\" halign=\"left\">payment_ammount_pondered</th>\n",
       "      <th colspan=\"8\" halign=\"left\">recreation_ammount_pondered</th>\n",
       "      <th colspan=\"8\" halign=\"left\">shops_ammount_pondered</th>\n",
       "      <th colspan=\"8\" halign=\"left\">transfer_ammount_y_pondered</th>\n",
       "      <th colspan=\"8\" halign=\"left\">travel_ammount_pondered</th>\n",
       "    </tr>\n",
       "    <tr>\n",
       "      <th></th>\n",
       "      <th>count</th>\n",
       "      <th>mean</th>\n",
       "      <th>std</th>\n",
       "      <th>min</th>\n",
       "      <th>25%</th>\n",
       "      <th>50%</th>\n",
       "      <th>75%</th>\n",
       "      <th>max</th>\n",
       "      <th>count</th>\n",
       "      <th>mean</th>\n",
       "      <th>std</th>\n",
       "      <th>min</th>\n",
       "      <th>25%</th>\n",
       "      <th>50%</th>\n",
       "      <th>75%</th>\n",
       "      <th>max</th>\n",
       "      <th>count</th>\n",
       "      <th>mean</th>\n",
       "      <th>std</th>\n",
       "      <th>min</th>\n",
       "      <th>25%</th>\n",
       "      <th>50%</th>\n",
       "      <th>75%</th>\n",
       "      <th>max</th>\n",
       "      <th>count</th>\n",
       "      <th>mean</th>\n",
       "      <th>std</th>\n",
       "      <th>min</th>\n",
       "      <th>25%</th>\n",
       "      <th>50%</th>\n",
       "      <th>75%</th>\n",
       "      <th>max</th>\n",
       "      <th>count</th>\n",
       "      <th>mean</th>\n",
       "      <th>std</th>\n",
       "      <th>min</th>\n",
       "      <th>25%</th>\n",
       "      <th>50%</th>\n",
       "      <th>75%</th>\n",
       "      <th>max</th>\n",
       "      <th>...</th>\n",
       "      <th>count</th>\n",
       "      <th>mean</th>\n",
       "      <th>std</th>\n",
       "      <th>min</th>\n",
       "      <th>25%</th>\n",
       "      <th>50%</th>\n",
       "      <th>75%</th>\n",
       "      <th>max</th>\n",
       "      <th>count</th>\n",
       "      <th>mean</th>\n",
       "      <th>std</th>\n",
       "      <th>min</th>\n",
       "      <th>25%</th>\n",
       "      <th>50%</th>\n",
       "      <th>75%</th>\n",
       "      <th>max</th>\n",
       "      <th>count</th>\n",
       "      <th>mean</th>\n",
       "      <th>std</th>\n",
       "      <th>min</th>\n",
       "      <th>25%</th>\n",
       "      <th>50%</th>\n",
       "      <th>75%</th>\n",
       "      <th>max</th>\n",
       "      <th>count</th>\n",
       "      <th>mean</th>\n",
       "      <th>std</th>\n",
       "      <th>min</th>\n",
       "      <th>25%</th>\n",
       "      <th>50%</th>\n",
       "      <th>75%</th>\n",
       "      <th>max</th>\n",
       "      <th>count</th>\n",
       "      <th>mean</th>\n",
       "      <th>std</th>\n",
       "      <th>min</th>\n",
       "      <th>25%</th>\n",
       "      <th>50%</th>\n",
       "      <th>75%</th>\n",
       "      <th>max</th>\n",
       "    </tr>\n",
       "    <tr>\n",
       "      <th>Segment</th>\n",
       "      <th></th>\n",
       "      <th></th>\n",
       "      <th></th>\n",
       "      <th></th>\n",
       "      <th></th>\n",
       "      <th></th>\n",
       "      <th></th>\n",
       "      <th></th>\n",
       "      <th></th>\n",
       "      <th></th>\n",
       "      <th></th>\n",
       "      <th></th>\n",
       "      <th></th>\n",
       "      <th></th>\n",
       "      <th></th>\n",
       "      <th></th>\n",
       "      <th></th>\n",
       "      <th></th>\n",
       "      <th></th>\n",
       "      <th></th>\n",
       "      <th></th>\n",
       "      <th></th>\n",
       "      <th></th>\n",
       "      <th></th>\n",
       "      <th></th>\n",
       "      <th></th>\n",
       "      <th></th>\n",
       "      <th></th>\n",
       "      <th></th>\n",
       "      <th></th>\n",
       "      <th></th>\n",
       "      <th></th>\n",
       "      <th></th>\n",
       "      <th></th>\n",
       "      <th></th>\n",
       "      <th></th>\n",
       "      <th></th>\n",
       "      <th></th>\n",
       "      <th></th>\n",
       "      <th></th>\n",
       "      <th></th>\n",
       "      <th></th>\n",
       "      <th></th>\n",
       "      <th></th>\n",
       "      <th></th>\n",
       "      <th></th>\n",
       "      <th></th>\n",
       "      <th></th>\n",
       "      <th></th>\n",
       "      <th></th>\n",
       "      <th></th>\n",
       "      <th></th>\n",
       "      <th></th>\n",
       "      <th></th>\n",
       "      <th></th>\n",
       "      <th></th>\n",
       "      <th></th>\n",
       "      <th></th>\n",
       "      <th></th>\n",
       "      <th></th>\n",
       "      <th></th>\n",
       "      <th></th>\n",
       "      <th></th>\n",
       "      <th></th>\n",
       "      <th></th>\n",
       "      <th></th>\n",
       "      <th></th>\n",
       "      <th></th>\n",
       "      <th></th>\n",
       "      <th></th>\n",
       "      <th></th>\n",
       "      <th></th>\n",
       "      <th></th>\n",
       "      <th></th>\n",
       "      <th></th>\n",
       "      <th></th>\n",
       "      <th></th>\n",
       "      <th></th>\n",
       "      <th></th>\n",
       "      <th></th>\n",
       "      <th></th>\n",
       "    </tr>\n",
       "  </thead>\n",
       "  <tbody>\n",
       "    <tr>\n",
       "      <th>First</th>\n",
       "      <td>1.000</td>\n",
       "      <td>75.000</td>\n",
       "      <td>nan</td>\n",
       "      <td>75.000</td>\n",
       "      <td>75.000</td>\n",
       "      <td>75.000</td>\n",
       "      <td>75.000</td>\n",
       "      <td>75.000</td>\n",
       "      <td>1.000</td>\n",
       "      <td>32.283</td>\n",
       "      <td>nan</td>\n",
       "      <td>32.283</td>\n",
       "      <td>32.283</td>\n",
       "      <td>32.283</td>\n",
       "      <td>32.283</td>\n",
       "      <td>32.283</td>\n",
       "      <td>1.000</td>\n",
       "      <td>0.160</td>\n",
       "      <td>nan</td>\n",
       "      <td>0.160</td>\n",
       "      <td>0.160</td>\n",
       "      <td>0.160</td>\n",
       "      <td>0.160</td>\n",
       "      <td>0.160</td>\n",
       "      <td>1.000</td>\n",
       "      <td>0.071</td>\n",
       "      <td>nan</td>\n",
       "      <td>0.071</td>\n",
       "      <td>0.071</td>\n",
       "      <td>0.071</td>\n",
       "      <td>0.071</td>\n",
       "      <td>0.071</td>\n",
       "      <td>1.000</td>\n",
       "      <td>0.436</td>\n",
       "      <td>nan</td>\n",
       "      <td>0.436</td>\n",
       "      <td>0.436</td>\n",
       "      <td>0.436</td>\n",
       "      <td>0.436</td>\n",
       "      <td>0.436</td>\n",
       "      <td>...</td>\n",
       "      <td>1.000</td>\n",
       "      <td>-10.338</td>\n",
       "      <td>nan</td>\n",
       "      <td>-10.338</td>\n",
       "      <td>-10.338</td>\n",
       "      <td>-10.338</td>\n",
       "      <td>-10.338</td>\n",
       "      <td>-10.338</td>\n",
       "      <td>1.000</td>\n",
       "      <td>-0.385</td>\n",
       "      <td>nan</td>\n",
       "      <td>-0.385</td>\n",
       "      <td>-0.385</td>\n",
       "      <td>-0.385</td>\n",
       "      <td>-0.385</td>\n",
       "      <td>-0.385</td>\n",
       "      <td>1.000</td>\n",
       "      <td>-2.460</td>\n",
       "      <td>nan</td>\n",
       "      <td>-2.460</td>\n",
       "      <td>-2.460</td>\n",
       "      <td>-2.460</td>\n",
       "      <td>-2.460</td>\n",
       "      <td>-2.460</td>\n",
       "      <td>1.000</td>\n",
       "      <td>-32.303</td>\n",
       "      <td>nan</td>\n",
       "      <td>-32.303</td>\n",
       "      <td>-32.303</td>\n",
       "      <td>-32.303</td>\n",
       "      <td>-32.303</td>\n",
       "      <td>-32.303</td>\n",
       "      <td>1.000</td>\n",
       "      <td>0.834</td>\n",
       "      <td>nan</td>\n",
       "      <td>0.834</td>\n",
       "      <td>0.834</td>\n",
       "      <td>0.834</td>\n",
       "      <td>0.834</td>\n",
       "      <td>0.834</td>\n",
       "    </tr>\n",
       "    <tr>\n",
       "      <th>Second</th>\n",
       "      <td>1.000</td>\n",
       "      <td>5.000</td>\n",
       "      <td>nan</td>\n",
       "      <td>5.000</td>\n",
       "      <td>5.000</td>\n",
       "      <td>5.000</td>\n",
       "      <td>5.000</td>\n",
       "      <td>5.000</td>\n",
       "      <td>1.000</td>\n",
       "      <td>28.951</td>\n",
       "      <td>nan</td>\n",
       "      <td>28.951</td>\n",
       "      <td>28.951</td>\n",
       "      <td>28.951</td>\n",
       "      <td>28.951</td>\n",
       "      <td>28.951</td>\n",
       "      <td>1.000</td>\n",
       "      <td>0.000</td>\n",
       "      <td>nan</td>\n",
       "      <td>0.000</td>\n",
       "      <td>0.000</td>\n",
       "      <td>0.000</td>\n",
       "      <td>0.000</td>\n",
       "      <td>0.000</td>\n",
       "      <td>1.000</td>\n",
       "      <td>0.471</td>\n",
       "      <td>nan</td>\n",
       "      <td>0.471</td>\n",
       "      <td>0.471</td>\n",
       "      <td>0.471</td>\n",
       "      <td>0.471</td>\n",
       "      <td>0.471</td>\n",
       "      <td>1.000</td>\n",
       "      <td>0.464</td>\n",
       "      <td>nan</td>\n",
       "      <td>0.464</td>\n",
       "      <td>0.464</td>\n",
       "      <td>0.464</td>\n",
       "      <td>0.464</td>\n",
       "      <td>0.464</td>\n",
       "      <td>...</td>\n",
       "      <td>1.000</td>\n",
       "      <td>-42.640</td>\n",
       "      <td>nan</td>\n",
       "      <td>-42.640</td>\n",
       "      <td>-42.640</td>\n",
       "      <td>-42.640</td>\n",
       "      <td>-42.640</td>\n",
       "      <td>-42.640</td>\n",
       "      <td>1.000</td>\n",
       "      <td>-1.572</td>\n",
       "      <td>nan</td>\n",
       "      <td>-1.572</td>\n",
       "      <td>-1.572</td>\n",
       "      <td>-1.572</td>\n",
       "      <td>-1.572</td>\n",
       "      <td>-1.572</td>\n",
       "      <td>1.000</td>\n",
       "      <td>-10.014</td>\n",
       "      <td>nan</td>\n",
       "      <td>-10.014</td>\n",
       "      <td>-10.014</td>\n",
       "      <td>-10.014</td>\n",
       "      <td>-10.014</td>\n",
       "      <td>-10.014</td>\n",
       "      <td>1.000</td>\n",
       "      <td>-138.873</td>\n",
       "      <td>nan</td>\n",
       "      <td>-138.873</td>\n",
       "      <td>-138.873</td>\n",
       "      <td>-138.873</td>\n",
       "      <td>-138.873</td>\n",
       "      <td>-138.873</td>\n",
       "      <td>1.000</td>\n",
       "      <td>-0.099</td>\n",
       "      <td>nan</td>\n",
       "      <td>-0.099</td>\n",
       "      <td>-0.099</td>\n",
       "      <td>-0.099</td>\n",
       "      <td>-0.099</td>\n",
       "      <td>-0.099</td>\n",
       "    </tr>\n",
       "  </tbody>\n",
       "</table>\n",
       "<p>2 rows × 184 columns</p>\n",
       "</div>"
      ],
      "text/plain": [
       "        Total                           ... travel_ammount_pondered                            \n",
       "        count   mean std    min    25%  ...                     min    25%    50%    75%    max\n",
       "Segment                                 ...                                                    \n",
       "First   1.000 75.000 nan 75.000 75.000  ...                   0.834  0.834  0.834  0.834  0.834\n",
       "Second  1.000  5.000 nan  5.000  5.000  ...                  -0.099 -0.099 -0.099 -0.099 -0.099\n",
       "\n",
       "[2 rows x 184 columns]"
      ]
     },
     "execution_count": 62,
     "metadata": {
      "tags": []
     },
     "output_type": "execute_result"
    }
   ],
   "source": [
    "groups.groupby('Segment').describe()"
   ]
  },
  {
   "cell_type": "markdown",
   "metadata": {
    "id": "YD1gQrryd1tL"
   },
   "source": [
    "Now we'll do the same analysis without the pondered values."
   ]
  },
  {
   "cell_type": "code",
   "execution_count": 79,
   "metadata": {
    "id": "Yq05N2CKYE5R"
   },
   "outputs": [],
   "source": [
    "users_analytical = users.merge(df[['Total','Segment']].reset_index(), left_on='id', right_on='id')"
   ]
  },
  {
   "cell_type": "code",
   "execution_count": 80,
   "metadata": {
    "id": "lsAE34tNYKXz"
   },
   "outputs": [],
   "source": [
    "users_analytical = users_analytical[users_analytical.columns[~users_analytical.columns.str.contains('pondered')]]"
   ]
  },
  {
   "cell_type": "code",
   "execution_count": 81,
   "metadata": {
    "id": "kpYLdQHEcY9o"
   },
   "outputs": [],
   "source": [
    "users_analytical.drop(['days_delta'], axis=1, inplace=True)"
   ]
  },
  {
   "cell_type": "code",
   "execution_count": 85,
   "metadata": {
    "id": "zI4cOSY8YfpG"
   },
   "outputs": [],
   "source": [
    "# Cluster interpretation\n",
    "# groups_not_pondered = users_analytical.rename(columns = {'Cluster Labels':'Total'}, inplace = True)\n",
    "groups_not_pondered = users_analytical.groupby('Segment').agg(\n",
    "    {\n",
    "        'Total':'count',\n",
    "        'state': lambda x: x.value_counts().index[0],\n",
    "        'age': 'mean',\n",
    "        'recency': 'mean',\n",
    "        'expense_frequency': 'sum',\n",
    "        'income_frequency': 'sum',\n",
    "        'transfer_frequency_x': 'sum',\n",
    "        'expense_ammount': 'sum',\n",
    "        'income_ammount': 'sum',\n",
    "        'transfer_ammount_x': 'sum',\n",
    "        'food_and_drink_frequency': 'sum',\n",
    "        'not_informed_frequency': 'sum',\n",
    "        'payment_frequency': 'sum',\n",
    "        'recreation_frequency': 'sum',\n",
    "        'shops_frequency': 'sum',\n",
    "        'transfer_frequency_y': 'sum',\n",
    "        'travel_frequency': 'sum',\n",
    "        'food_and_drink_ammount': 'sum',\n",
    "        'not_informed_ammount': 'sum',\n",
    "        'payment_ammount': 'sum',\n",
    "        'recreation_ammount': 'sum',\n",
    "        'shops_ammount': 'sum',\n",
    "        'transfer_ammount_y': 'sum',\n",
    "        'travel_ammount': 'sum'\n",
    "    }\n",
    ").reset_index()"
   ]
  },
  {
   "cell_type": "code",
   "execution_count": 86,
   "metadata": {
    "colab": {
     "base_uri": "https://localhost:8080/",
     "height": 131
    },
    "id": "yfjAW-1cdBvO",
    "outputId": "17b28da8-18f8-40a3-fcd5-c855d5c75622"
   },
   "outputs": [
    {
     "data": {
      "text/html": [
       "<div>\n",
       "<style scoped>\n",
       "    .dataframe tbody tr th:only-of-type {\n",
       "        vertical-align: middle;\n",
       "    }\n",
       "\n",
       "    .dataframe tbody tr th {\n",
       "        vertical-align: top;\n",
       "    }\n",
       "\n",
       "    .dataframe thead th {\n",
       "        text-align: right;\n",
       "    }\n",
       "</style>\n",
       "<table border=\"1\" class=\"dataframe\">\n",
       "  <thead>\n",
       "    <tr style=\"text-align: right;\">\n",
       "      <th></th>\n",
       "      <th>Segment</th>\n",
       "      <th>Total</th>\n",
       "      <th>state</th>\n",
       "      <th>age</th>\n",
       "      <th>recency</th>\n",
       "      <th>expense_frequency</th>\n",
       "      <th>income_frequency</th>\n",
       "      <th>transfer_frequency_x</th>\n",
       "      <th>expense_ammount</th>\n",
       "      <th>income_ammount</th>\n",
       "      <th>transfer_ammount_x</th>\n",
       "      <th>food_and_drink_frequency</th>\n",
       "      <th>not_informed_frequency</th>\n",
       "      <th>payment_frequency</th>\n",
       "      <th>recreation_frequency</th>\n",
       "      <th>shops_frequency</th>\n",
       "      <th>transfer_frequency_y</th>\n",
       "      <th>travel_frequency</th>\n",
       "      <th>food_and_drink_ammount</th>\n",
       "      <th>not_informed_ammount</th>\n",
       "      <th>payment_ammount</th>\n",
       "      <th>recreation_ammount</th>\n",
       "      <th>shops_ammount</th>\n",
       "      <th>transfer_ammount_y</th>\n",
       "      <th>travel_ammount</th>\n",
       "    </tr>\n",
       "  </thead>\n",
       "  <tbody>\n",
       "    <tr>\n",
       "      <th>0</th>\n",
       "      <td>First</td>\n",
       "      <td>75</td>\n",
       "      <td>NY</td>\n",
       "      <td>32.283</td>\n",
       "      <td>0.160</td>\n",
       "      <td>3910.000</td>\n",
       "      <td>1109.000</td>\n",
       "      <td>248.000</td>\n",
       "      <td>-2949947.320</td>\n",
       "      <td>200560.150</td>\n",
       "      <td>-6200.000</td>\n",
       "      <td>1644.000</td>\n",
       "      <td>498.000</td>\n",
       "      <td>519.000</td>\n",
       "      <td>270.000</td>\n",
       "      <td>271.000</td>\n",
       "      <td>692.000</td>\n",
       "      <td>1373.000</td>\n",
       "      <td>-308908.640</td>\n",
       "      <td>15534.690</td>\n",
       "      <td>-569473.500</td>\n",
       "      <td>-21195.000</td>\n",
       "      <td>-135500.000</td>\n",
       "      <td>-1781724.540</td>\n",
       "      <td>45679.820</td>\n",
       "    </tr>\n",
       "    <tr>\n",
       "      <th>1</th>\n",
       "      <td>Second</td>\n",
       "      <td>5</td>\n",
       "      <td>NY</td>\n",
       "      <td>28.951</td>\n",
       "      <td>0.000</td>\n",
       "      <td>1730.000</td>\n",
       "      <td>1696.000</td>\n",
       "      <td>150.000</td>\n",
       "      <td>-932615.970</td>\n",
       "      <td>3878962.380</td>\n",
       "      <td>-3750.000</td>\n",
       "      <td>369.000</td>\n",
       "      <td>2244.000</td>\n",
       "      <td>224.000</td>\n",
       "      <td>74.000</td>\n",
       "      <td>74.000</td>\n",
       "      <td>296.000</td>\n",
       "      <td>295.000</td>\n",
       "      <td>-81324.020</td>\n",
       "      <td>3737789.400</td>\n",
       "      <td>-157559.000</td>\n",
       "      <td>-5809.000</td>\n",
       "      <td>-37000.000</td>\n",
       "      <td>-513133.880</td>\n",
       "      <td>-367.090</td>\n",
       "    </tr>\n",
       "  </tbody>\n",
       "</table>\n",
       "</div>"
      ],
      "text/plain": [
       "  Segment  Total state  ...  shops_ammount  transfer_ammount_y  travel_ammount\n",
       "0   First     75    NY  ...    -135500.000        -1781724.540       45679.820\n",
       "1  Second      5    NY  ...     -37000.000         -513133.880        -367.090\n",
       "\n",
       "[2 rows x 25 columns]"
      ]
     },
     "execution_count": 86,
     "metadata": {
      "tags": []
     },
     "output_type": "execute_result"
    }
   ],
   "source": [
    "groups_not_pondered"
   ]
  },
  {
   "cell_type": "markdown",
   "metadata": {
    "id": "aYeI1_hg36-_"
   },
   "source": [
    "In therms of the variables (features) that were created, this group has a very similar behavior, hence the algorithm grouped most users on the First group. This may be an indication that we need more data in order to achieve better results.\n",
    "\n",
    "To analyze the segments, instead of calculating some central measure like the mean, I used the sum of each category, taking into account the different time deltas present in the transactions data.\n",
    "\n",
    "Now to the information that we can get from the formed segments. The users from the first segment had a total income on the period of the analysis of \\\\$ 200560.15 and their expenses were way above their income, at \\\\$ 2949947.32. For interpretations purposes, we'll call this group as **Spenders**.\n",
    "\n",
    "The second segment has the opposite behavior, their income on the period was \\\\$ 3878962.38 while their expense was \\\\$ 932615.97. For interpretation purposes, we'll call this group as **Savers**.\n",
    "\n",
    "The Spenders had as their most frequent spent category Food and Drink, follow by Travel, while the Savers had the Not Informed category, followed by a balanced mix of Food and Drink, Payment, Transfer and Travel categories.\n",
    "\n",
    "Any further consideration could lead to wrong interpretations again brought by the different time deltas on the transactions data.\n",
    "\n",
    "As the last tought, here are the considerations I would try in order to improve this segmentation if I had more time or were on a real business case:\n",
    "\n",
    "1. Ask the business coworkers for more data, if possible.\n",
    "2. Spend more time with the business coworkers and adjust the analysis towards their needs.\n",
    "3. Try some more feature engineering techniques, such as log-transform, and mixing and matching the data to come up with new features.\n",
    "4. Try to implement a Principal Component Analysis (PCA) to get rid of noise. This could greatly improve the convergence of the clustering algorithm.\n",
    "5. Try to scale all the data to the same range (*e.g.* scale all the numeric data to fit betwen the [-1,1] interval), this could also improve the clustering algorithm."
   ]
  },
  {
   "cell_type": "code",
   "execution_count": null,
   "metadata": {
    "id": "QXSgYcYrdFLI"
   },
   "outputs": [],
   "source": []
  }
 ],
 "metadata": {
  "colab": {
   "collapsed_sections": [],
   "name": "Untitled.ipynb",
   "provenance": []
  },
  "kernelspec": {
   "display_name": "Python 3",
   "language": "python",
   "name": "python3"
  },
  "language_info": {
   "codemirror_mode": {
    "name": "ipython",
    "version": 3
   },
   "file_extension": ".py",
   "mimetype": "text/x-python",
   "name": "python",
   "nbconvert_exporter": "python",
   "pygments_lexer": "ipython3",
   "version": "3.7.4"
  }
 },
 "nbformat": 4,
 "nbformat_minor": 4
}
